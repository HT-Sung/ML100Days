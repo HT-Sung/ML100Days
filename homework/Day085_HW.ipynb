{
 "cells": [
  {
   "cell_type": "markdown",
   "metadata": {},
   "source": [
    "## Work\n",
    "1. 試改變 monitor \"Validation Accuracy\" 並比較結果\n",
    "2. 調整 earlystop 的等待次數至 10, 25 並比較結果"
   ]
  },
  {
   "cell_type": "code",
   "execution_count": 1,
   "metadata": {},
   "outputs": [],
   "source": [
    "import os\n",
    "import keras\n",
    "import matplotlib.pyplot as plt\n",
    "%matplotlib inline\n",
    "\n",
    "\n",
    "# Disable GPU\n",
    "os.environ[\"CUDA_VISIBLE_DEVICES\"] = \"\""
   ]
  },
  {
   "cell_type": "code",
   "execution_count": 2,
   "metadata": {},
   "outputs": [],
   "source": [
    "train, test = keras.datasets.cifar10.load_data()"
   ]
  },
  {
   "cell_type": "code",
   "execution_count": 3,
   "metadata": {},
   "outputs": [],
   "source": [
    "## 資料前處理\n",
    "def preproc_x(x, flatten=True):\n",
    "    x = x / 255.\n",
    "    if flatten:\n",
    "        x = x.reshape((len(x), -1))\n",
    "    return x\n",
    "\n",
    "def preproc_y(y, num_classes=10):\n",
    "    if y.shape[-1] == 1:\n",
    "        y = keras.utils.to_categorical(y, num_classes)\n",
    "    return y    "
   ]
  },
  {
   "cell_type": "code",
   "execution_count": 4,
   "metadata": {},
   "outputs": [],
   "source": [
    "x_train, y_train = train\n",
    "x_test, y_test = test\n",
    "\n",
    "# Preproc the inputs\n",
    "x_train = preproc_x(x_train)\n",
    "x_test = preproc_x(x_test)\n",
    "\n",
    "# Preprc the outputs\n",
    "y_train = preproc_y(y_train)\n",
    "y_test = preproc_y(y_test)"
   ]
  },
  {
   "cell_type": "code",
   "execution_count": 5,
   "metadata": {},
   "outputs": [],
   "source": [
    "from keras.layers import BatchNormalization\n",
    "def build_mlp(input_shape, output_units=10, num_neurons=[512, 256, 128, 128, 128]):\n",
    "    input_layer = keras.layers.Input(input_shape)\n",
    "    \n",
    "    for i, n_units in enumerate(num_neurons):\n",
    "        if i == 0:\n",
    "            x = keras.layers.Dense(units=n_units, \n",
    "                                   activation=\"relu\", \n",
    "                                   name=\"hidden_layer\"+str(i+1))(input_layer)\n",
    "            x = BatchNormalization()(x)\n",
    "        else:\n",
    "            x = keras.layers.Dense(units=n_units, \n",
    "                                   activation=\"relu\", \n",
    "                                   name=\"hidden_layer\"+str(i+1))(x)\n",
    "            x = BatchNormalization()(x)\n",
    "    \n",
    "    out = keras.layers.Dense(units=output_units, activation=\"softmax\", name=\"output\")(x)\n",
    "    \n",
    "    model = keras.models.Model(inputs=[input_layer], outputs=[out])\n",
    "    return model"
   ]
  },
  {
   "cell_type": "code",
   "execution_count": 6,
   "metadata": {},
   "outputs": [],
   "source": [
    "\"\"\"Code Here\n",
    "設定超參數\n",
    "\"\"\"\n",
    "LEARNING_RATE = 1e-3\n",
    "EPOCHS = 50\n",
    "BATCH_SIZE = 1024\n",
    "MOMENTUM = 0.95"
   ]
  },
  {
   "cell_type": "code",
   "execution_count": 13,
   "metadata": {},
   "outputs": [],
   "source": [
    "# 載入 Callbacks\n",
    "\"\"\"Code Here\n",
    "設定 callbacks: Earlystop\n",
    "\"\"\"\n",
    "\n",
    "results = {}\n",
    "from keras.callbacks import EarlyStopping\n",
    "\n",
    "earlystop = EarlyStopping(monitor=\"val_accuracy\", \n",
    "                          patience=10, \n",
    "                          verbose=1\n",
    "                          )"
   ]
  },
  {
   "cell_type": "code",
   "execution_count": 14,
   "metadata": {},
   "outputs": [
    {
     "name": "stdout",
     "output_type": "stream",
     "text": [
      "Model: \"functional_5\"\n",
      "_________________________________________________________________\n",
      "Layer (type)                 Output Shape              Param #   \n",
      "=================================================================\n",
      "input_3 (InputLayer)         [(None, 3072)]            0         \n",
      "_________________________________________________________________\n",
      "hidden_layer1 (Dense)        (None, 512)               1573376   \n",
      "_________________________________________________________________\n",
      "batch_normalization_10 (Batc (None, 512)               2048      \n",
      "_________________________________________________________________\n",
      "hidden_layer2 (Dense)        (None, 256)               131328    \n",
      "_________________________________________________________________\n",
      "batch_normalization_11 (Batc (None, 256)               1024      \n",
      "_________________________________________________________________\n",
      "hidden_layer3 (Dense)        (None, 128)               32896     \n",
      "_________________________________________________________________\n",
      "batch_normalization_12 (Batc (None, 128)               512       \n",
      "_________________________________________________________________\n",
      "hidden_layer4 (Dense)        (None, 128)               16512     \n",
      "_________________________________________________________________\n",
      "batch_normalization_13 (Batc (None, 128)               512       \n",
      "_________________________________________________________________\n",
      "hidden_layer5 (Dense)        (None, 128)               16512     \n",
      "_________________________________________________________________\n",
      "batch_normalization_14 (Batc (None, 128)               512       \n",
      "_________________________________________________________________\n",
      "output (Dense)               (None, 10)                1290      \n",
      "=================================================================\n",
      "Total params: 1,776,522\n",
      "Trainable params: 1,774,218\n",
      "Non-trainable params: 2,304\n",
      "_________________________________________________________________\n",
      "Epoch 1/50\n",
      "49/49 [==============================] - 5s 93ms/step - loss: 2.3003 - accuracy: 0.2412 - val_loss: 2.2204 - val_accuracy: 0.1709\n",
      "Epoch 2/50\n",
      "49/49 [==============================] - 4s 80ms/step - loss: 1.8421 - accuracy: 0.3558 - val_loss: 2.0598 - val_accuracy: 0.2681\n",
      "Epoch 3/50\n",
      "49/49 [==============================] - 4s 78ms/step - loss: 1.6888 - accuracy: 0.4052 - val_loss: 1.9416 - val_accuracy: 0.3095\n",
      "Epoch 4/50\n",
      "49/49 [==============================] - 4s 79ms/step - loss: 1.5978 - accuracy: 0.4385 - val_loss: 1.8307 - val_accuracy: 0.3597\n",
      "Epoch 5/50\n",
      "49/49 [==============================] - 4s 77ms/step - loss: 1.5299 - accuracy: 0.4597 - val_loss: 1.7018 - val_accuracy: 0.4008\n",
      "Epoch 6/50\n",
      "49/49 [==============================] - 4s 77ms/step - loss: 1.4764 - accuracy: 0.4820 - val_loss: 1.6588 - val_accuracy: 0.4146\n",
      "Epoch 7/50\n",
      "49/49 [==============================] - 4s 83ms/step - loss: 1.4275 - accuracy: 0.5005 - val_loss: 1.6120 - val_accuracy: 0.4247\n",
      "Epoch 8/50\n",
      "49/49 [==============================] - 4s 78ms/step - loss: 1.3861 - accuracy: 0.5126 - val_loss: 1.5696 - val_accuracy: 0.4396\n",
      "Epoch 9/50\n",
      "49/49 [==============================] - 4s 78ms/step - loss: 1.3486 - accuracy: 0.5262 - val_loss: 1.5582 - val_accuracy: 0.4484\n",
      "Epoch 10/50\n",
      "49/49 [==============================] - 4s 78ms/step - loss: 1.3103 - accuracy: 0.5397 - val_loss: 1.5437 - val_accuracy: 0.4528\n",
      "Epoch 11/50\n",
      "49/49 [==============================] - 4s 78ms/step - loss: 1.2769 - accuracy: 0.5538 - val_loss: 1.5391 - val_accuracy: 0.4543\n",
      "Epoch 12/50\n",
      "49/49 [==============================] - 4s 78ms/step - loss: 1.2424 - accuracy: 0.5674 - val_loss: 1.5334 - val_accuracy: 0.4573\n",
      "Epoch 13/50\n",
      "49/49 [==============================] - 4s 80ms/step - loss: 1.2146 - accuracy: 0.5767 - val_loss: 1.5554 - val_accuracy: 0.4517\n",
      "Epoch 14/50\n",
      "49/49 [==============================] - 4s 79ms/step - loss: 1.1852 - accuracy: 0.5878 - val_loss: 1.5324 - val_accuracy: 0.4624\n",
      "Epoch 15/50\n",
      "49/49 [==============================] - 4s 79ms/step - loss: 1.1529 - accuracy: 0.6022 - val_loss: 1.5389 - val_accuracy: 0.4625\n",
      "Epoch 16/50\n",
      "49/49 [==============================] - 4s 79ms/step - loss: 1.1241 - accuracy: 0.6115 - val_loss: 1.5350 - val_accuracy: 0.4637\n",
      "Epoch 17/50\n",
      "49/49 [==============================] - 4s 80ms/step - loss: 1.0967 - accuracy: 0.6246 - val_loss: 1.5421 - val_accuracy: 0.4620\n",
      "Epoch 18/50\n",
      "49/49 [==============================] - 4s 80ms/step - loss: 1.0696 - accuracy: 0.6332 - val_loss: 1.5452 - val_accuracy: 0.4634\n",
      "Epoch 19/50\n",
      "49/49 [==============================] - 4s 80ms/step - loss: 1.0435 - accuracy: 0.6459 - val_loss: 1.5440 - val_accuracy: 0.4671\n",
      "Epoch 20/50\n",
      "49/49 [==============================] - 4s 80ms/step - loss: 1.0165 - accuracy: 0.6550 - val_loss: 1.5586 - val_accuracy: 0.4631\n",
      "Epoch 21/50\n",
      "49/49 [==============================] - 4s 80ms/step - loss: 0.9891 - accuracy: 0.6649 - val_loss: 1.5587 - val_accuracy: 0.4706\n",
      "Epoch 22/50\n",
      "49/49 [==============================] - 4s 80ms/step - loss: 0.9625 - accuracy: 0.6760 - val_loss: 1.5582 - val_accuracy: 0.4712\n",
      "Epoch 23/50\n",
      "49/49 [==============================] - 4s 80ms/step - loss: 0.9382 - accuracy: 0.6854 - val_loss: 1.5676 - val_accuracy: 0.4671\n",
      "Epoch 24/50\n",
      "49/49 [==============================] - 4s 81ms/step - loss: 0.9110 - accuracy: 0.6944 - val_loss: 1.5657 - val_accuracy: 0.4729\n",
      "Epoch 25/50\n",
      "49/49 [==============================] - 4s 81ms/step - loss: 0.8844 - accuracy: 0.7069 - val_loss: 1.5711 - val_accuracy: 0.4730\n",
      "Epoch 26/50\n",
      "49/49 [==============================] - 4s 82ms/step - loss: 0.8593 - accuracy: 0.7173 - val_loss: 1.5904 - val_accuracy: 0.4677\n",
      "Epoch 27/50\n",
      "49/49 [==============================] - 4s 81ms/step - loss: 0.8349 - accuracy: 0.7266 - val_loss: 1.5967 - val_accuracy: 0.4676\n",
      "Epoch 28/50\n",
      "49/49 [==============================] - 4s 83ms/step - loss: 0.8100 - accuracy: 0.7348 - val_loss: 1.6135 - val_accuracy: 0.4702\n",
      "Epoch 29/50\n",
      "49/49 [==============================] - 4s 80ms/step - loss: 0.7856 - accuracy: 0.7446 - val_loss: 1.6291 - val_accuracy: 0.4677\n",
      "Epoch 30/50\n",
      "49/49 [==============================] - 4s 82ms/step - loss: 0.7611 - accuracy: 0.7561 - val_loss: 1.6431 - val_accuracy: 0.4644\n",
      "Epoch 31/50\n",
      "49/49 [==============================] - 4s 82ms/step - loss: 0.7339 - accuracy: 0.7657 - val_loss: 1.6513 - val_accuracy: 0.4665\n",
      "Epoch 32/50\n",
      "49/49 [==============================] - 4s 81ms/step - loss: 0.7133 - accuracy: 0.7740 - val_loss: 1.6892 - val_accuracy: 0.4581\n",
      "Epoch 33/50\n",
      "49/49 [==============================] - 4s 82ms/step - loss: 0.6880 - accuracy: 0.7825 - val_loss: 1.6955 - val_accuracy: 0.4623\n",
      "Epoch 34/50\n",
      "49/49 [==============================] - 4s 82ms/step - loss: 0.6647 - accuracy: 0.7942 - val_loss: 1.7095 - val_accuracy: 0.4637\n",
      "Epoch 35/50\n",
      "49/49 [==============================] - 4s 82ms/step - loss: 0.6419 - accuracy: 0.8000 - val_loss: 1.7167 - val_accuracy: 0.4650\n",
      "Epoch 00035: early stopping\n"
     ]
    }
   ],
   "source": [
    "model = build_mlp(input_shape=x_train.shape[1:])\n",
    "model.summary()\n",
    "optimizer = keras.optimizers.SGD(lr=LEARNING_RATE, nesterov=True, momentum=MOMENTUM)\n",
    "model.compile(loss=\"categorical_crossentropy\", metrics=[\"accuracy\"], optimizer=optimizer)\n",
    "\n",
    "model.fit(x_train, y_train, \n",
    "          epochs=EPOCHS, \n",
    "          batch_size=BATCH_SIZE, \n",
    "          validation_data=(x_test, y_test), \n",
    "          shuffle=True,\n",
    "          callbacks=[earlystop]\n",
    "         )\n",
    "\n",
    "# Collect results\n",
    "train_loss = model.history.history[\"loss\"]\n",
    "valid_loss = model.history.history[\"val_loss\"]\n",
    "train_acc = model.history.history[\"accuracy\"]\n",
    "valid_acc = model.history.history[\"val_accuracy\"]"
   ]
  },
  {
   "cell_type": "code",
   "execution_count": 15,
   "metadata": {},
   "outputs": [
    {
     "data": {
      "image/png": "[encoded data removed]",
      "text/plain": [
       "<Figure size 432x288 with 1 Axes>"
      ]
     },
     "metadata": {
      "needs_background": "light"
     },
     "output_type": "display_data"
    },
    {
     "data": {
      "image/png": "[encoded data removed]",
      "text/plain": [
       "<Figure size 432x288 with 1 Axes>"
      ]
     },
     "metadata": {
      "needs_background": "light"
     },
     "output_type": "display_data"
    }
   ],
   "source": [
    "import matplotlib.pyplot as plt\n",
    "%matplotlib inline\n",
    "\n",
    "plt.plot(range(len(train_loss)), train_loss, label=\"train loss\")\n",
    "plt.plot(range(len(valid_loss)), valid_loss, label=\"valid loss\")\n",
    "plt.legend()\n",
    "plt.title(\"Loss\")\n",
    "plt.show()\n",
    "\n",
    "plt.plot(range(len(train_acc)), train_acc, label=\"train accuracy\")\n",
    "plt.plot(range(len(valid_acc)), valid_acc, label=\"valid accuracy\")\n",
    "plt.legend()\n",
    "plt.title(\"Accuracy\")\n",
    "plt.show()"
   ]
  },
  {
   "cell_type": "code",
   "execution_count": null,
   "metadata": {},
   "outputs": [],
   "source": []
  }
 ],
 "metadata": {
  "kernelspec": {
   "display_name": "Python 3",
   "language": "python",
   "name": "python3"
  },
  "language_info": {
   "codemirror_mode": {
    "name": "ipython",
    "version": 3
   },
   "file_extension": ".py",
   "mimetype": "text/x-python",
   "name": "python",
   "nbconvert_exporter": "python",
   "pygments_lexer": "ipython3",
   "version": "3.7.6"
  }
 },
 "nbformat": 4,
 "nbformat_minor": 2
}
