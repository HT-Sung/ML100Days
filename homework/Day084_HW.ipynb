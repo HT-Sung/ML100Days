{
 "cells": [
  {
   "cell_type": "markdown",
   "metadata": {},
   "source": [
    "## Work\n",
    "### 請結合前面的知識與程式碼，比較不同的 regularization 的組合對訓練的結果與影響：如 dropout, regularizers, batch-normalization 等"
   ]
  },
  {
   "cell_type": "code",
   "execution_count": 1,
   "metadata": {},
   "outputs": [],
   "source": [
    "import os\n",
    "import keras\n",
    "import itertools\n",
    "# Disable GPU\n",
    "os.environ[\"CUDA_VISIBLE_DEVICES\"] = \"\""
   ]
  },
  {
   "cell_type": "code",
   "execution_count": 2,
   "metadata": {},
   "outputs": [],
   "source": [
    "train, test = keras.datasets.cifar10.load_data()"
   ]
  },
  {
   "cell_type": "code",
   "execution_count": 3,
   "metadata": {},
   "outputs": [],
   "source": [
    "## 資料前處理\n",
    "def preproc_x(x, flatten=True):\n",
    "    x = x / 255.\n",
    "    if flatten:\n",
    "        x = x.reshape((len(x), -1))\n",
    "    return x\n",
    "\n",
    "def preproc_y(y, num_classes=10):\n",
    "    if y.shape[-1] == 1:\n",
    "        y = keras.utils.to_categorical(y, num_classes)\n",
    "    return y    "
   ]
  },
  {
   "cell_type": "code",
   "execution_count": 4,
   "metadata": {},
   "outputs": [],
   "source": [
    "x_train, y_train = train\n",
    "x_test, y_test = test\n",
    "\n",
    "# Preproc the inputs\n",
    "x_train = preproc_x(x_train)\n",
    "x_test = preproc_x(x_test)\n",
    "\n",
    "# Preprc the outputs\n",
    "y_train = preproc_y(y_train)\n",
    "y_test = preproc_y(y_test)"
   ]
  },
  {
   "cell_type": "code",
   "execution_count": 5,
   "metadata": {},
   "outputs": [],
   "source": [
    "from keras.layers import BatchNormalization, Activation\n",
    "from keras.regularizers import l1_l2\n",
    "def build_mlp(input_shape, output_units=10, num_neurons=[512, 256, 128], pre_activate=False, l1_ratio=0.0, l2_ratio=0.0):\n",
    "    input_layer = keras.layers.Input(input_shape)\n",
    "    \n",
    "    for i, n_units in enumerate(num_neurons):\n",
    "        if i == 0:\n",
    "            x = keras.layers.Dense(units=n_units, \n",
    "                                   name=\"hidden_layer\"+str(i+1), kernel_regularizer=l1_l2(l1=l1_ratio, l2=l2_ratio))(input_layer)\n",
    "            if pre_activate:\n",
    "                x = BatchNormalization()(x)\n",
    "                x = Activation(\"relu\")(x)\n",
    "            else:\n",
    "                x = Activation(\"relu\")(x)\n",
    "                x = BatchNormalization()(x)\n",
    "        else:\n",
    "            x = keras.layers.Dense(units=n_units, \n",
    "                                   name=\"hidden_layer\"+str(i+1), kernel_regularizer=l1_l2(l1=l1_ratio, l2=l2_ratio))(x)\n",
    "            if pre_activate:\n",
    "                x = BatchNormalization()(x)\n",
    "                x = Activation(\"relu\")(x)\n",
    "            else:\n",
    "                x = Activation(\"relu\")(x)\n",
    "                x = BatchNormalization()(x)\n",
    "                \n",
    "    \n",
    "    out = keras.layers.Dense(units=output_units, activation=\"softmax\", name=\"output\")(x)\n",
    "    \n",
    "    model = keras.models.Model(inputs=[input_layer], outputs=[out])\n",
    "    return model"
   ]
  },
  {
   "cell_type": "code",
   "execution_count": 9,
   "metadata": {},
   "outputs": [],
   "source": [
    "\"\"\"Code Here\n",
    "設定超參數\n",
    "\"\"\"\n",
    "LEARNING_RATE = 1e-3\n",
    "EPOCHS = 50\n",
    "BATCH_SIZE = 128\n",
    "MOMENTUM = 0.95\n",
    "l1r =  1e-8\n",
    "l2r = 1e-8"
   ]
  },
  {
   "cell_type": "code",
   "execution_count": 10,
   "metadata": {
    "scrolled": true
   },
   "outputs": [
    {
     "name": "stdout",
     "output_type": "stream",
     "text": [
      "Model: \"functional_1\"\n",
      "_________________________________________________________________\n",
      "Layer (type)                 Output Shape              Param #   \n",
      "=================================================================\n",
      "input_1 (InputLayer)         [(None, 3072)]            0         \n",
      "_________________________________________________________________\n",
      "hidden_layer1 (Dense)        (None, 512)               1573376   \n",
      "_________________________________________________________________\n",
      "activation (Activation)      (None, 512)               0         \n",
      "_________________________________________________________________\n",
      "batch_normalization (BatchNo (None, 512)               2048      \n",
      "_________________________________________________________________\n",
      "hidden_layer2 (Dense)        (None, 256)               131328    \n",
      "_________________________________________________________________\n",
      "activation_1 (Activation)    (None, 256)               0         \n",
      "_________________________________________________________________\n",
      "batch_normalization_1 (Batch (None, 256)               1024      \n",
      "_________________________________________________________________\n",
      "hidden_layer3 (Dense)        (None, 128)               32896     \n",
      "_________________________________________________________________\n",
      "activation_2 (Activation)    (None, 128)               0         \n",
      "_________________________________________________________________\n",
      "batch_normalization_2 (Batch (None, 128)               512       \n",
      "_________________________________________________________________\n",
      "output (Dense)               (None, 10)                1290      \n",
      "=================================================================\n",
      "Total params: 1,742,474\n",
      "Trainable params: 1,740,682\n",
      "Non-trainable params: 1,792\n",
      "_________________________________________________________________\n",
      "Epoch 1/50\n",
      "391/391 [==============================] - 9s 23ms/step - loss: 1.7552 - accuracy: 0.3903 - val_loss: 1.6406 - val_accuracy: 0.4246\n",
      "Epoch 2/50\n",
      "391/391 [==============================] - 8s 21ms/step - loss: 1.4924 - accuracy: 0.4788 - val_loss: 1.6055 - val_accuracy: 0.4294\n",
      "Epoch 3/50\n",
      "391/391 [==============================] - 8s 21ms/step - loss: 1.3934 - accuracy: 0.5131 - val_loss: 1.5843 - val_accuracy: 0.4446\n",
      "Epoch 4/50\n",
      "391/391 [==============================] - 8s 21ms/step - loss: 1.3187 - accuracy: 0.5369 - val_loss: 1.6168 - val_accuracy: 0.4303\n",
      "Epoch 5/50\n",
      "391/391 [==============================] - 8s 21ms/step - loss: 1.2606 - accuracy: 0.5554 - val_loss: 1.4550 - val_accuracy: 0.4910\n",
      "Epoch 6/50\n",
      "391/391 [==============================] - 8s 21ms/step - loss: 1.2125 - accuracy: 0.5727 - val_loss: 1.5612 - val_accuracy: 0.4588\n",
      "Epoch 7/50\n",
      "391/391 [==============================] - 8s 21ms/step - loss: 1.1686 - accuracy: 0.5913 - val_loss: 1.4478 - val_accuracy: 0.4915\n",
      "Epoch 8/50\n",
      "391/391 [==============================] - 8s 20ms/step - loss: 1.1258 - accuracy: 0.6032 - val_loss: 1.5623 - val_accuracy: 0.4638\n",
      "Epoch 9/50\n",
      "391/391 [==============================] - 8s 21ms/step - loss: 1.0873 - accuracy: 0.6184 - val_loss: 1.5163 - val_accuracy: 0.4737\n",
      "Epoch 10/50\n",
      "391/391 [==============================] - 8s 21ms/step - loss: 1.0535 - accuracy: 0.6319 - val_loss: 1.4762 - val_accuracy: 0.4893\n",
      "Epoch 11/50\n",
      "391/391 [==============================] - 8s 20ms/step - loss: 1.0185 - accuracy: 0.6437 - val_loss: 1.5483 - val_accuracy: 0.4755\n",
      "Epoch 12/50\n",
      "391/391 [==============================] - 8s 21ms/step - loss: 0.9845 - accuracy: 0.6558 - val_loss: 1.5252 - val_accuracy: 0.4820\n",
      "Epoch 13/50\n",
      "391/391 [==============================] - 8s 20ms/step - loss: 0.9508 - accuracy: 0.6671 - val_loss: 1.5958 - val_accuracy: 0.4650\n",
      "Epoch 14/50\n",
      "391/391 [==============================] - 8s 21ms/step - loss: 0.9204 - accuracy: 0.6761 - val_loss: 1.6594 - val_accuracy: 0.4611\n",
      "Epoch 15/50\n",
      "391/391 [==============================] - 8s 21ms/step - loss: 0.8969 - accuracy: 0.6854 - val_loss: 1.6139 - val_accuracy: 0.4602\n",
      "Epoch 16/50\n",
      "391/391 [==============================] - 8s 20ms/step - loss: 0.8601 - accuracy: 0.6998 - val_loss: 1.6114 - val_accuracy: 0.4786\n",
      "Epoch 17/50\n",
      "391/391 [==============================] - 8s 21ms/step - loss: 0.8314 - accuracy: 0.7104 - val_loss: 1.6891 - val_accuracy: 0.4747\n",
      "Epoch 18/50\n",
      "391/391 [==============================] - 8s 20ms/step - loss: 0.8012 - accuracy: 0.7198 - val_loss: 1.7206 - val_accuracy: 0.4512\n",
      "Epoch 19/50\n",
      "391/391 [==============================] - 8s 21ms/step - loss: 0.7765 - accuracy: 0.7284 - val_loss: 1.7796 - val_accuracy: 0.4482\n",
      "Epoch 20/50\n",
      "391/391 [==============================] - 8s 20ms/step - loss: 0.7493 - accuracy: 0.7370 - val_loss: 1.7287 - val_accuracy: 0.4736\n",
      "Epoch 21/50\n",
      "391/391 [==============================] - 8s 20ms/step - loss: 0.7192 - accuracy: 0.7478 - val_loss: 1.7760 - val_accuracy: 0.4641\n",
      "Epoch 22/50\n",
      "391/391 [==============================] - 8s 20ms/step - loss: 0.6981 - accuracy: 0.7572 - val_loss: 1.7478 - val_accuracy: 0.4770\n",
      "Epoch 23/50\n",
      "391/391 [==============================] - 8s 20ms/step - loss: 0.6843 - accuracy: 0.7598 - val_loss: 1.7585 - val_accuracy: 0.4687\n",
      "Epoch 24/50\n",
      "391/391 [==============================] - 8s 21ms/step - loss: 0.6609 - accuracy: 0.7674 - val_loss: 1.9019 - val_accuracy: 0.4478\n",
      "Epoch 25/50\n",
      "391/391 [==============================] - 8s 21ms/step - loss: 0.6377 - accuracy: 0.7773 - val_loss: 1.7785 - val_accuracy: 0.4687\n",
      "Epoch 26/50\n",
      "391/391 [==============================] - 8s 20ms/step - loss: 0.6102 - accuracy: 0.7872 - val_loss: 1.9996 - val_accuracy: 0.4467\n",
      "Epoch 27/50\n",
      "391/391 [==============================] - 9s 23ms/step - loss: 0.5890 - accuracy: 0.7957 - val_loss: 1.7861 - val_accuracy: 0.4776\n",
      "Epoch 28/50\n",
      "391/391 [==============================] - 8s 21ms/step - loss: 0.5623 - accuracy: 0.8053 - val_loss: 2.1182 - val_accuracy: 0.4378\n",
      "Epoch 29/50\n",
      "391/391 [==============================] - 8s 21ms/step - loss: 0.5362 - accuracy: 0.8148 - val_loss: 1.9851 - val_accuracy: 0.4718\n",
      "Epoch 30/50\n",
      "391/391 [==============================] - 8s 21ms/step - loss: 0.5172 - accuracy: 0.8194 - val_loss: 1.9646 - val_accuracy: 0.4680\n",
      "Epoch 31/50\n",
      "391/391 [==============================] - 8s 21ms/step - loss: 0.5044 - accuracy: 0.8248 - val_loss: 2.0587 - val_accuracy: 0.4600\n",
      "Epoch 32/50\n",
      "391/391 [==============================] - 8s 21ms/step - loss: 0.4854 - accuracy: 0.8317 - val_loss: 2.1975 - val_accuracy: 0.4212\n",
      "Epoch 33/50\n",
      "391/391 [==============================] - 8s 21ms/step - loss: 0.4686 - accuracy: 0.8371 - val_loss: 2.1278 - val_accuracy: 0.4506\n",
      "Epoch 34/50\n",
      "391/391 [==============================] - 8s 21ms/step - loss: 0.4680 - accuracy: 0.8365 - val_loss: 2.0780 - val_accuracy: 0.4523\n",
      "Epoch 35/50\n",
      "391/391 [==============================] - 8s 21ms/step - loss: 0.4384 - accuracy: 0.8498 - val_loss: 2.3991 - val_accuracy: 0.4345\n",
      "Epoch 36/50\n",
      "391/391 [==============================] - 8s 21ms/step - loss: 0.4176 - accuracy: 0.8573 - val_loss: 2.0669 - val_accuracy: 0.4811\n",
      "Epoch 37/50\n",
      "391/391 [==============================] - 8s 21ms/step - loss: 0.4032 - accuracy: 0.8624 - val_loss: 2.1022 - val_accuracy: 0.4552\n",
      "Epoch 38/50\n",
      "391/391 [==============================] - 8s 21ms/step - loss: 0.3818 - accuracy: 0.8687 - val_loss: 2.2406 - val_accuracy: 0.4630\n",
      "Epoch 39/50\n",
      "391/391 [==============================] - 8s 21ms/step - loss: 0.3750 - accuracy: 0.8711 - val_loss: 2.2843 - val_accuracy: 0.4592\n",
      "Epoch 40/50\n",
      "391/391 [==============================] - 8s 21ms/step - loss: 0.3666 - accuracy: 0.8748 - val_loss: 2.2697 - val_accuracy: 0.4576\n",
      "Epoch 41/50\n",
      "391/391 [==============================] - 8s 21ms/step - loss: 0.3510 - accuracy: 0.8790 - val_loss: 2.2968 - val_accuracy: 0.4602\n",
      "Epoch 42/50\n",
      "391/391 [==============================] - 8s 21ms/step - loss: 0.3399 - accuracy: 0.8853 - val_loss: 2.3333 - val_accuracy: 0.4703\n",
      "Epoch 43/50\n",
      "391/391 [==============================] - 8s 21ms/step - loss: 0.3193 - accuracy: 0.8917 - val_loss: 2.3930 - val_accuracy: 0.4589\n",
      "Epoch 44/50\n",
      "391/391 [==============================] - 8s 21ms/step - loss: 0.3220 - accuracy: 0.8894 - val_loss: 2.6052 - val_accuracy: 0.4357\n",
      "Epoch 45/50\n"
     ]
    },
    {
     "name": "stdout",
     "output_type": "stream",
     "text": [
      "391/391 [==============================] - 8s 20ms/step - loss: 0.3100 - accuracy: 0.8955 - val_loss: 2.5421 - val_accuracy: 0.4406\n",
      "Epoch 46/50\n",
      "391/391 [==============================] - 8s 20ms/step - loss: 0.3015 - accuracy: 0.8987 - val_loss: 2.3933 - val_accuracy: 0.4689\n",
      "Epoch 47/50\n",
      "391/391 [==============================] - 8s 20ms/step - loss: 0.3007 - accuracy: 0.8959 - val_loss: 2.4705 - val_accuracy: 0.4735\n",
      "Epoch 48/50\n",
      "391/391 [==============================] - 8s 20ms/step - loss: 0.2831 - accuracy: 0.9045 - val_loss: 2.4343 - val_accuracy: 0.4691\n",
      "Epoch 49/50\n",
      "391/391 [==============================] - 8s 20ms/step - loss: 0.2673 - accuracy: 0.9094 - val_loss: 2.5864 - val_accuracy: 0.4556\n",
      "Epoch 50/50\n",
      "391/391 [==============================] - 8s 20ms/step - loss: 0.2722 - accuracy: 0.9069 - val_loss: 2.5230 - val_accuracy: 0.4536\n"
     ]
    }
   ],
   "source": [
    "results = {}\n",
    "\"\"\"Code Here\n",
    "撰寫你的訓練流程並將結果用 dictionary 紀錄\n",
    "\"\"\"\n",
    "\n",
    "keras.backend.clear_session() # 把舊的 Graph 清掉\n",
    "model = build_mlp(input_shape=x_train.shape[1:], l1_ratio=l1r, l2_ratio=l2r)\n",
    "model.summary()\n",
    "optimizer = keras.optimizers.SGD(lr=LEARNING_RATE, nesterov=True, momentum=MOMENTUM)\n",
    "model.compile(loss=\"categorical_crossentropy\", metrics=[\"accuracy\"], optimizer=optimizer)\n",
    "\n",
    "model.fit(x_train, y_train, \n",
    "              epochs=EPOCHS, \n",
    "              batch_size=BATCH_SIZE, \n",
    "              validation_data=(x_test, y_test), \n",
    "              shuffle=True)\n",
    "    \n",
    "    # Collect results\n",
    "train_loss = model.history.history[\"loss\"]\n",
    "valid_loss = model.history.history[\"val_loss\"]\n",
    "train_acc = model.history.history[\"accuracy\"]\n",
    "valid_acc = model.history.history[\"val_accuracy\"]\n",
    "    \n",
    "exp_name_tag = \"exp-l1-%s-l2-%s\" % (str(l1r), str(l2r))\n",
    "results[exp_name_tag] = {'train-loss': train_loss,\n",
    "                             'valid-loss': valid_loss,\n",
    "                             'train-acc': train_acc,\n",
    "                             'valid-acc': valid_acc}"
   ]
  },
  {
   "cell_type": "code",
   "execution_count": 11,
   "metadata": {},
   "outputs": [
    {
     "data": {
      "image/png": "[encoded data removed]",
      "text/plain": [
       "<Figure size 432x288 with 1 Axes>"
      ]
     },
     "metadata": {
      "needs_background": "light"
     },
     "output_type": "display_data"
    },
    {
     "data": {
      "image/png": "[encoded data removed]",
      "text/plain": [
       "<Figure size 432x288 with 1 Axes>"
      ]
     },
     "metadata": {
      "needs_background": "light"
     },
     "output_type": "display_data"
    }
   ],
   "source": [
    "import matplotlib.pyplot as plt\n",
    "%matplotlib inline\n",
    "\"\"\"Code Here\n",
    "將結果繪出\n",
    "\"\"\"\n",
    "\n",
    "plt.plot(range(len(train_loss)), train_loss, label=\"train loss\")\n",
    "plt.plot(range(len(valid_loss)), valid_loss, label=\"valid loss\")\n",
    "plt.legend()\n",
    "plt.title(\"Loss\")\n",
    "plt.show()\n",
    "\n",
    "plt.plot(range(len(train_acc)), train_acc, label=\"train accuracy\")\n",
    "plt.plot(range(len(valid_acc)), valid_acc, label=\"valid accuracy\")\n",
    "plt.legend()\n",
    "plt.title(\"Accuracy\")\n",
    "plt.show()"
   ]
  },
  {
   "cell_type": "code",
   "execution_count": null,
   "metadata": {},
   "outputs": [],
   "source": []
  }
 ],
 "metadata": {
  "kernelspec": {
   "display_name": "Python 3",
   "language": "python",
   "name": "python3"
  },
  "language_info": {
   "codemirror_mode": {
    "name": "ipython",
    "version": 3
   },
   "file_extension": ".py",
   "mimetype": "text/x-python",
   "name": "python",
   "nbconvert_exporter": "python",
   "pygments_lexer": "ipython3",
   "version": "3.7.6"
  }
 },
 "nbformat": 4,
 "nbformat_minor": 2
}
