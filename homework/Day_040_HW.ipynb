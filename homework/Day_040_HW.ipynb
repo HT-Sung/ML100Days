{
 "cells": [
  {
   "cell_type": "markdown",
   "metadata": {},
   "source": [
    "## [作業重點]\n",
    "使用 Sklearn 中的 Lasso, Ridge 模型，來訓練各種資料集，務必了解送進去模型訓練的**資料型態**為何，也請了解模型中各項參數的意義。\n",
    "\n",
    "機器學習的模型非常多種，但要訓練的資料多半有固定的格式，確保你了解訓練資料的格式為何，這樣在應用新模型時，就能夠最快的上手開始訓練！"
   ]
  },
  {
   "cell_type": "markdown",
   "metadata": {},
   "source": [
    "## 練習時間\n",
    "試著使用 sklearn datasets 的其他資料集 (boston, ...)，來訓練自己的線性迴歸模型，並加上適當的正則化來觀察訓練情形。"
   ]
  },
  {
   "cell_type": "code",
   "execution_count": 1,
   "metadata": {},
   "outputs": [],
   "source": [
    "import numpy as np\n",
    "from sklearn import datasets, linear_model\n",
    "from sklearn.model_selection import train_test_split\n",
    "from sklearn.metrics import mean_squared_error, r2_score"
   ]
  },
  {
   "cell_type": "code",
   "execution_count": 2,
   "metadata": {},
   "outputs": [
    {
     "name": "stdout",
     "output_type": "stream",
     "text": [
      "MSE : 17.038701324921963\n",
      "R_squared : 0.7926083526613232\n",
      "Coefficient : [-1.25856659e-01  4.84257396e-02  1.84085281e-02  3.08509569e+00\n",
      " -1.73277018e+01  3.61674713e+00  2.19181853e-03 -1.49361132e+00\n",
      "  3.19979200e-01 -1.27294649e-02 -9.27469086e-01  9.50912468e-03\n",
      " -5.33592471e-01]\n"
     ]
    }
   ],
   "source": [
    "boston = datasets.load_boston()\n",
    "x_train, x_test, y_train, y_test = train_test_split(boston.data, boston.target, test_size = 0.1, random_state = 4)\n",
    "lr = linear_model.LinearRegression()\n",
    "lr.fit(x_train, y_train)\n",
    "y_pred_lr = lr.predict(x_test)\n",
    "print('MSE : {}'.format(mean_squared_error(y_test, y_pred_lr)))\n",
    "print('R_squared : {}'.format(r2_score(y_test, y_pred_lr)))\n",
    "print('Coefficient : {}'.format(lr.coef_))"
   ]
  },
  {
   "cell_type": "code",
   "execution_count": 3,
   "metadata": {},
   "outputs": [
    {
     "name": "stdout",
     "output_type": "stream",
     "text": [
      "Alpha : 0.0\n",
      "MSE : 17.04\n",
      "R_squared : 0.792608\n",
      "Alpha : 0.25\n",
      "MSE : 17.11\n",
      "R_squared : 0.791690\n",
      "Alpha : 0.5\n",
      "MSE : 17.20\n",
      "R_squared : 0.790668\n",
      "Alpha : 0.75\n",
      "MSE : 17.28\n",
      "R_squared : 0.789687\n"
     ]
    }
   ],
   "source": [
    "for i in np.arange(0,1,0.25):\n",
    "    ridge_i = linear_model.Ridge(alpha=i)\n",
    "    ridge_i.fit(x_train, y_train)\n",
    "    y_pred_ridge_i= ridge_i.predict(x_test)\n",
    "    print('Alpha : {}'.format(i))\n",
    "    print('MSE : {:.2f}'.format(mean_squared_error(y_test, y_pred_ridge_i)))\n",
    "    print('R_squared : {:2f}'.format(r2_score(y_test, y_pred_ridge_i)))\n",
    "    "
   ]
  },
  {
   "cell_type": "code",
   "execution_count": 4,
   "metadata": {},
   "outputs": [
    {
     "name": "stdout",
     "output_type": "stream",
     "text": [
      "Alpha : 0.0\n",
      "MSE : 17.04\n",
      "R_squared : 0.792608\n",
      "Alpha : 0.25\n",
      "MSE : 18.59\n",
      "R_squared : 0.773762\n",
      "Alpha : 0.5\n",
      "MSE : 19.66\n",
      "R_squared : 0.760732\n",
      "Alpha : 0.75\n",
      "MSE : 21.20\n",
      "R_squared : 0.741931\n"
     ]
    },
    {
     "name": "stderr",
     "output_type": "stream",
     "text": [
      "/opt/anaconda3/lib/python3.7/site-packages/ipykernel_launcher.py:3: UserWarning: With alpha=0, this algorithm does not converge well. You are advised to use the LinearRegression estimator\n",
      "  This is separate from the ipykernel package so we can avoid doing imports until\n",
      "/opt/anaconda3/lib/python3.7/site-packages/sklearn/linear_model/_coordinate_descent.py:476: UserWarning: Coordinate descent with no regularization may lead to unexpected results and is discouraged.\n",
      "  positive)\n",
      "/opt/anaconda3/lib/python3.7/site-packages/sklearn/linear_model/_coordinate_descent.py:476: ConvergenceWarning: Objective did not converge. You might want to increase the number of iterations. Duality gap: 5115.628760049459, tolerance: 3.8525708923076927\n",
      "  positive)\n"
     ]
    }
   ],
   "source": [
    "for i in np.arange(0,1,0.25):\n",
    "    lasso_i = linear_model.Lasso(alpha=i)\n",
    "    lasso_i.fit(x_train, y_train)\n",
    "    y_pred_lasso_i= lasso_i.predict(x_test)\n",
    "    print('Alpha : {}'.format(i))\n",
    "    print('MSE : {:.2f}'.format(mean_squared_error(y_test, y_pred_lasso_i)))\n",
    "    print('R_squared : {:2f}'.format(r2_score(y_test, y_pred_lasso_i)))"
   ]
  },
  {
   "cell_type": "code",
   "execution_count": null,
   "metadata": {},
   "outputs": [],
   "source": []
  },
  {
   "cell_type": "code",
   "execution_count": null,
   "metadata": {},
   "outputs": [],
   "source": []
  }
 ],
 "metadata": {
  "kernelspec": {
   "display_name": "Python 3",
   "language": "python",
   "name": "python3"
  },
  "language_info": {
   "codemirror_mode": {
    "name": "ipython",
    "version": 3
   },
   "file_extension": ".py",
   "mimetype": "text/x-python",
   "name": "python",
   "nbconvert_exporter": "python",
   "pygments_lexer": "ipython3",
   "version": "3.7.6"
  }
 },
 "nbformat": 4,
 "nbformat_minor": 2
}
