{
 "cells": [
  {
   "cell_type": "markdown",
   "metadata": {},
   "source": [
    "## Work\n",
    "1. 請比較使用不同層數以及不同 Dropout rate 對訓練的效果\n",
    "2. 將 optimizer 改成使用 Adam 並加上適當的 dropout rate 檢視結果"
   ]
  },
  {
   "cell_type": "code",
   "execution_count": 1,
   "metadata": {},
   "outputs": [],
   "source": [
    "import os\n",
    "import keras\n",
    "import itertools\n",
    "# Disable GPU\n",
    "os.environ[\"CUDA_VISIBLE_DEVICES\"] = \"\""
   ]
  },
  {
   "cell_type": "code",
   "execution_count": 2,
   "metadata": {},
   "outputs": [],
   "source": [
    "train, test = keras.datasets.cifar10.load_data()"
   ]
  },
  {
   "cell_type": "code",
   "execution_count": 3,
   "metadata": {},
   "outputs": [],
   "source": [
    "## 資料前處理\n",
    "def preproc_x(x, flatten=True):\n",
    "    x = x / 255.\n",
    "    if flatten:\n",
    "        x = x.reshape((len(x), -1))\n",
    "    return x\n",
    "\n",
    "def preproc_y(y, num_classes=10):\n",
    "    if y.shape[-1] == 1:\n",
    "        y = keras.utils.to_categorical(y, num_classes)\n",
    "    return y    "
   ]
  },
  {
   "cell_type": "code",
   "execution_count": 4,
   "metadata": {},
   "outputs": [],
   "source": [
    "x_train, y_train = train\n",
    "x_test, y_test = test\n",
    "\n",
    "# Preproc the inputs\n",
    "x_train = preproc_x(x_train)\n",
    "x_test = preproc_x(x_test)\n",
    "\n",
    "# Preprc the outputs\n",
    "y_train = preproc_y(y_train)\n",
    "y_test = preproc_y(y_test)"
   ]
  },
  {
   "cell_type": "code",
   "execution_count": 6,
   "metadata": {},
   "outputs": [],
   "source": [
    "from keras.layers import Dropout\n",
    "\n",
    "\"\"\"\n",
    "    Code Here\n",
    "    建立你的神經網路\n",
    "\"\"\"\n",
    "def build_mlp(input_shape, output_units=10, num_neurons=[512, 256, 128, 128, 128], drp_ratio=0.25):\n",
    "    input_layer = keras.layers.Input(input_shape)\n",
    "    \n",
    "    for i, n_units in enumerate(num_neurons):\n",
    "        if i == 0:\n",
    "            x = keras.layers.Dense(units=n_units, \n",
    "                                   activation=\"relu\", \n",
    "                                   name=\"hidden_layer\"+str(i+1))(input_layer)\n",
    "            x = Dropout(drp_ratio)(x)\n",
    "        else:\n",
    "            x = keras.layers.Dense(units=n_units, \n",
    "                                   activation=\"relu\", \n",
    "                                   name=\"hidden_layer\"+str(i+1))(x)\n",
    "            x = Dropout(drp_ratio)(x)\n",
    "    \n",
    "    out = keras.layers.Dense(units=output_units, activation=\"softmax\", name=\"output\")(x)\n",
    "    \n",
    "    model = keras.models.Model(inputs=[input_layer], outputs=[out])\n",
    "    return model"
   ]
  },
  {
   "cell_type": "code",
   "execution_count": 7,
   "metadata": {},
   "outputs": [],
   "source": [
    "\"\"\"Code Here\n",
    "設定超參數\n",
    "\"\"\"\n",
    "## 超參數設定\n",
    "LEARNING_RATE = 1e-3\n",
    "EPOCHS = 50\n",
    "BATCH_SIZE = 256\n",
    "Dropout_EXP = 0.20"
   ]
  },
  {
   "cell_type": "code",
   "execution_count": 11,
   "metadata": {
    "scrolled": true
   },
   "outputs": [
    {
     "name": "stdout",
     "output_type": "stream",
     "text": [
      "Model: \"functional_1\"\n",
      "_________________________________________________________________\n",
      "Layer (type)                 Output Shape              Param #   \n",
      "=================================================================\n",
      "input_1 (InputLayer)         [(None, 3072)]            0         \n",
      "_________________________________________________________________\n",
      "hidden_layer1 (Dense)        (None, 512)               1573376   \n",
      "_________________________________________________________________\n",
      "dropout (Dropout)            (None, 512)               0         \n",
      "_________________________________________________________________\n",
      "hidden_layer2 (Dense)        (None, 256)               131328    \n",
      "_________________________________________________________________\n",
      "dropout_1 (Dropout)          (None, 256)               0         \n",
      "_________________________________________________________________\n",
      "hidden_layer3 (Dense)        (None, 128)               32896     \n",
      "_________________________________________________________________\n",
      "dropout_2 (Dropout)          (None, 128)               0         \n",
      "_________________________________________________________________\n",
      "hidden_layer4 (Dense)        (None, 128)               16512     \n",
      "_________________________________________________________________\n",
      "dropout_3 (Dropout)          (None, 128)               0         \n",
      "_________________________________________________________________\n",
      "hidden_layer5 (Dense)        (None, 128)               16512     \n",
      "_________________________________________________________________\n",
      "dropout_4 (Dropout)          (None, 128)               0         \n",
      "_________________________________________________________________\n",
      "output (Dense)               (None, 10)                1290      \n",
      "=================================================================\n",
      "Total params: 1,771,914\n",
      "Trainable params: 1,771,914\n",
      "Non-trainable params: 0\n",
      "_________________________________________________________________\n",
      "Epoch 1/50\n",
      "196/196 [==============================] - 7s 38ms/step - loss: 2.1072 - accuracy: 0.1928 - val_loss: 1.9169 - val_accuracy: 0.2860\n",
      "Epoch 2/50\n",
      "196/196 [==============================] - 7s 37ms/step - loss: 1.9121 - accuracy: 0.2911 - val_loss: 1.8015 - val_accuracy: 0.3486\n",
      "Epoch 3/50\n",
      "196/196 [==============================] - 9s 45ms/step - loss: 1.8604 - accuracy: 0.3219 - val_loss: 1.7830 - val_accuracy: 0.3583\n",
      "Epoch 4/50\n",
      "196/196 [==============================] - 8s 40ms/step - loss: 1.8207 - accuracy: 0.3387 - val_loss: 1.7185 - val_accuracy: 0.3795\n",
      "Epoch 5/50\n",
      "196/196 [==============================] - 7s 38ms/step - loss: 1.7764 - accuracy: 0.3542 - val_loss: 1.6875 - val_accuracy: 0.3987\n",
      "Epoch 6/50\n",
      "196/196 [==============================] - 8s 40ms/step - loss: 1.7507 - accuracy: 0.3630 - val_loss: 1.6763 - val_accuracy: 0.3958\n",
      "Epoch 7/50\n",
      "196/196 [==============================] - 8s 40ms/step - loss: 1.7287 - accuracy: 0.3712 - val_loss: 1.6337 - val_accuracy: 0.4101\n",
      "Epoch 8/50\n",
      "196/196 [==============================] - 7s 37ms/step - loss: 1.7123 - accuracy: 0.3766 - val_loss: 1.6172 - val_accuracy: 0.4198\n",
      "Epoch 9/50\n",
      "196/196 [==============================] - 8s 40ms/step - loss: 1.6987 - accuracy: 0.3838 - val_loss: 1.5991 - val_accuracy: 0.4205\n",
      "Epoch 10/50\n",
      "196/196 [==============================] - 7s 36ms/step - loss: 1.6869 - accuracy: 0.3888 - val_loss: 1.6227 - val_accuracy: 0.4147\n",
      "Epoch 11/50\n",
      "196/196 [==============================] - 7s 37ms/step - loss: 1.6742 - accuracy: 0.3961 - val_loss: 1.6061 - val_accuracy: 0.4249\n",
      "Epoch 12/50\n",
      "196/196 [==============================] - 7s 36ms/step - loss: 1.6639 - accuracy: 0.3953 - val_loss: 1.5637 - val_accuracy: 0.4455\n",
      "Epoch 13/50\n",
      "196/196 [==============================] - 7s 36ms/step - loss: 1.6491 - accuracy: 0.4042 - val_loss: 1.5745 - val_accuracy: 0.4381\n",
      "Epoch 14/50\n",
      "196/196 [==============================] - 7s 36ms/step - loss: 1.6396 - accuracy: 0.4045 - val_loss: 1.5904 - val_accuracy: 0.4355\n",
      "Epoch 15/50\n",
      "196/196 [==============================] - 7s 37ms/step - loss: 1.6310 - accuracy: 0.4123 - val_loss: 1.5495 - val_accuracy: 0.4483\n",
      "Epoch 16/50\n",
      "196/196 [==============================] - 7s 38ms/step - loss: 1.6208 - accuracy: 0.4144 - val_loss: 1.5616 - val_accuracy: 0.4347\n",
      "Epoch 17/50\n",
      "196/196 [==============================] - 7s 36ms/step - loss: 1.6118 - accuracy: 0.4199 - val_loss: 1.5339 - val_accuracy: 0.4562\n",
      "Epoch 18/50\n",
      "196/196 [==============================] - 7s 37ms/step - loss: 1.6050 - accuracy: 0.4222 - val_loss: 1.5376 - val_accuracy: 0.4525\n",
      "Epoch 19/50\n",
      "196/196 [==============================] - 7s 38ms/step - loss: 1.5976 - accuracy: 0.4232 - val_loss: 1.5289 - val_accuracy: 0.4502\n",
      "Epoch 20/50\n",
      "196/196 [==============================] - 7s 37ms/step - loss: 1.5857 - accuracy: 0.4313 - val_loss: 1.5308 - val_accuracy: 0.4515\n",
      "Epoch 21/50\n",
      "196/196 [==============================] - 7s 36ms/step - loss: 1.5831 - accuracy: 0.4297 - val_loss: 1.5146 - val_accuracy: 0.4571\n",
      "Epoch 22/50\n",
      "196/196 [==============================] - 7s 37ms/step - loss: 1.5800 - accuracy: 0.4319 - val_loss: 1.5086 - val_accuracy: 0.4627\n",
      "Epoch 23/50\n",
      "196/196 [==============================] - 7s 37ms/step - loss: 1.5649 - accuracy: 0.4352 - val_loss: 1.4995 - val_accuracy: 0.4626\n",
      "Epoch 24/50\n",
      "196/196 [==============================] - 7s 38ms/step - loss: 1.5706 - accuracy: 0.4323 - val_loss: 1.5113 - val_accuracy: 0.4606\n",
      "Epoch 25/50\n",
      "196/196 [==============================] - 8s 39ms/step - loss: 1.5564 - accuracy: 0.4422 - val_loss: 1.5420 - val_accuracy: 0.4571\n",
      "Epoch 26/50\n",
      "196/196 [==============================] - 7s 37ms/step - loss: 1.5497 - accuracy: 0.4414 - val_loss: 1.4882 - val_accuracy: 0.4663\n",
      "Epoch 27/50\n",
      "196/196 [==============================] - 7s 38ms/step - loss: 1.5433 - accuracy: 0.4448 - val_loss: 1.4872 - val_accuracy: 0.4656\n",
      "Epoch 28/50\n",
      "196/196 [==============================] - 7s 38ms/step - loss: 1.5387 - accuracy: 0.4471 - val_loss: 1.4883 - val_accuracy: 0.4723\n",
      "Epoch 29/50\n",
      "196/196 [==============================] - 7s 38ms/step - loss: 1.5524 - accuracy: 0.4427 - val_loss: 1.4974 - val_accuracy: 0.4627\n",
      "Epoch 30/50\n",
      "196/196 [==============================] - 7s 37ms/step - loss: 1.5371 - accuracy: 0.4477 - val_loss: 1.4879 - val_accuracy: 0.4643\n",
      "Epoch 31/50\n",
      "196/196 [==============================] - 7s 38ms/step - loss: 1.5343 - accuracy: 0.4491 - val_loss: 1.5201 - val_accuracy: 0.4635\n",
      "Epoch 32/50\n",
      "196/196 [==============================] - 7s 38ms/step - loss: 1.5284 - accuracy: 0.4499 - val_loss: 1.4730 - val_accuracy: 0.4783\n",
      "Epoch 33/50\n",
      "196/196 [==============================] - 8s 39ms/step - loss: 1.5293 - accuracy: 0.4494 - val_loss: 1.4873 - val_accuracy: 0.4755\n",
      "Epoch 34/50\n",
      "196/196 [==============================] - 7s 37ms/step - loss: 1.5162 - accuracy: 0.4548 - val_loss: 1.4894 - val_accuracy: 0.4725\n",
      "Epoch 35/50\n",
      "196/196 [==============================] - 7s 38ms/step - loss: 1.5239 - accuracy: 0.4527 - val_loss: 1.4511 - val_accuracy: 0.4838\n",
      "Epoch 36/50\n",
      "196/196 [==============================] - 7s 38ms/step - loss: 1.5158 - accuracy: 0.4569 - val_loss: 1.4659 - val_accuracy: 0.4760\n",
      "Epoch 37/50\n",
      "196/196 [==============================] - 7s 38ms/step - loss: 1.5041 - accuracy: 0.4628 - val_loss: 1.4551 - val_accuracy: 0.4855\n",
      "Epoch 38/50\n",
      "196/196 [==============================] - 8s 43ms/step - loss: 1.5051 - accuracy: 0.4582 - val_loss: 1.4583 - val_accuracy: 0.4713\n",
      "Epoch 39/50\n",
      "196/196 [==============================] - 9s 45ms/step - loss: 1.5042 - accuracy: 0.4622 - val_loss: 1.4445 - val_accuracy: 0.4856\n",
      "Epoch 40/50\n",
      "196/196 [==============================] - 8s 41ms/step - loss: 1.5018 - accuracy: 0.4632 - val_loss: 1.4671 - val_accuracy: 0.4798\n",
      "Epoch 41/50\n",
      "196/196 [==============================] - 6s 33ms/step - loss: 1.4911 - accuracy: 0.4661 - val_loss: 1.4754 - val_accuracy: 0.4760\n",
      "Epoch 42/50\n",
      "196/196 [==============================] - 6s 30ms/step - loss: 1.4989 - accuracy: 0.4643 - val_loss: 1.4554 - val_accuracy: 0.4813\n",
      "Epoch 43/50\n",
      "196/196 [==============================] - 5s 27ms/step - loss: 1.4930 - accuracy: 0.4622 - val_loss: 1.4419 - val_accuracy: 0.4862\n",
      "Epoch 44/50\n"
     ]
    },
    {
     "name": "stdout",
     "output_type": "stream",
     "text": [
      "196/196 [==============================] - 7s 34ms/step - loss: 1.4872 - accuracy: 0.4673 - val_loss: 1.4508 - val_accuracy: 0.4838\n",
      "Epoch 45/50\n",
      "196/196 [==============================] - 8s 42ms/step - loss: 1.4817 - accuracy: 0.4702 - val_loss: 1.4643 - val_accuracy: 0.4859\n",
      "Epoch 46/50\n",
      "196/196 [==============================] - 8s 39ms/step - loss: 1.4790 - accuracy: 0.4697 - val_loss: 1.4358 - val_accuracy: 0.4934\n",
      "Epoch 47/50\n",
      "196/196 [==============================] - 7s 37ms/step - loss: 1.4752 - accuracy: 0.4714 - val_loss: 1.4417 - val_accuracy: 0.4906\n",
      "Epoch 48/50\n",
      "196/196 [==============================] - 7s 37ms/step - loss: 1.4717 - accuracy: 0.4723 - val_loss: 1.4409 - val_accuracy: 0.4911\n",
      "Epoch 49/50\n",
      "196/196 [==============================] - 7s 35ms/step - loss: 1.4640 - accuracy: 0.4754 - val_loss: 1.4171 - val_accuracy: 0.4959\n",
      "Epoch 50/50\n",
      "196/196 [==============================] - 7s 35ms/step - loss: 1.4630 - accuracy: 0.4762 - val_loss: 1.4458 - val_accuracy: 0.4864\n"
     ]
    }
   ],
   "source": [
    "results = {}\n",
    "\"\"\"Code Here\n",
    "撰寫你的訓練流程並將結果用 dictionary 紀錄\n",
    "\"\"\"\n",
    "model = build_mlp(input_shape=x_train.shape[1:], drp_ratio=Dropout_EXP)\n",
    "model.summary()\n",
    "optimizer = keras.optimizers.Adam(lr=LEARNING_RATE, beta_1=0.9, beta_2=0.999, epsilon=None, decay=0.0, amsgrad=False)\n",
    "model.compile(loss=\"categorical_crossentropy\", metrics=[\"accuracy\"], optimizer=optimizer)\n",
    "\n",
    "model.fit(x_train, y_train, \n",
    "          epochs=EPOCHS, \n",
    "          batch_size=BATCH_SIZE, \n",
    "          validation_data=(x_test, y_test), \n",
    "          shuffle=True)\n",
    "\n",
    "# Collect results\n",
    "train_loss = model.history.history[\"loss\"]\n",
    "valid_loss = model.history.history[\"val_loss\"]\n",
    "train_acc = model.history.history[\"accuracy\"]\n",
    "valid_acc = model.history.history[\"val_accuracy\"]"
   ]
  },
  {
   "cell_type": "code",
   "execution_count": 12,
   "metadata": {},
   "outputs": [
    {
     "data": {
      "image/png": "[encoded data removed]",
      "text/plain": [
       "<Figure size 432x288 with 1 Axes>"
      ]
     },
     "metadata": {
      "needs_background": "light"
     },
     "output_type": "display_data"
    },
    {
     "data": {
      "image/png": "[encoded data removed]",
      "text/plain": [
       "<Figure size 432x288 with 1 Axes>"
      ]
     },
     "metadata": {
      "needs_background": "light"
     },
     "output_type": "display_data"
    }
   ],
   "source": [
    "import matplotlib.pyplot as plt\n",
    "%matplotlib inline\n",
    "\"\"\"Code Here\n",
    "將結果繪出\n",
    "\"\"\"\n",
    "\n",
    "plt.plot(range(len(train_loss)), train_loss, label=\"train loss\")\n",
    "plt.plot(range(len(valid_loss)), valid_loss, label=\"valid loss\")\n",
    "plt.legend()\n",
    "plt.title(\"Loss\")\n",
    "plt.show()\n",
    "\n",
    "plt.plot(range(len(train_acc)), train_acc, label=\"train accuracy\")\n",
    "plt.plot(range(len(valid_acc)), valid_acc, label=\"valid accuracy\")\n",
    "plt.legend()\n",
    "plt.title(\"Accuracy\")\n",
    "plt.show()"
   ]
  },
  {
   "cell_type": "code",
   "execution_count": null,
   "metadata": {},
   "outputs": [],
   "source": []
  }
 ],
 "metadata": {
  "kernelspec": {
   "display_name": "Python 3",
   "language": "python",
   "name": "python3"
  },
  "language_info": {
   "codemirror_mode": {
    "name": "ipython",
    "version": 3
   },
   "file_extension": ".py",
   "mimetype": "text/x-python",
   "name": "python",
   "nbconvert_exporter": "python",
   "pygments_lexer": "ipython3",
   "version": "3.7.6"
  }
 },
 "nbformat": 4,
 "nbformat_minor": 2
}
