{
 "cells": [
  {
   "cell_type": "markdown",
   "metadata": {},
   "source": [
    "## Work\n",
    "1. 試比較 save_best_only 與否的差異\n",
    "2. 請僅存入將 save_weights_only 設定為 True, 並嘗試 reset ipynb 並將模型與權重重新建回並預測 x_test"
   ]
  },
  {
   "cell_type": "code",
   "execution_count": 1,
   "metadata": {},
   "outputs": [],
   "source": [
    "import os\n",
    "import keras\n",
    "\n",
    "# Disable GPU\n",
    "os.environ[\"CUDA_VISIBLE_DEVICES\"] = \"\""
   ]
  },
  {
   "cell_type": "code",
   "execution_count": 2,
   "metadata": {},
   "outputs": [],
   "source": [
    "train, test = keras.datasets.cifar10.load_data()"
   ]
  },
  {
   "cell_type": "code",
   "execution_count": 3,
   "metadata": {},
   "outputs": [],
   "source": [
    "## 資料前處理\n",
    "def preproc_x(x, flatten=True):\n",
    "    x = x / 255.\n",
    "    if flatten:\n",
    "        x = x.reshape((len(x), -1))\n",
    "    return x\n",
    "\n",
    "def preproc_y(y, num_classes=10):\n",
    "    if y.shape[-1] == 1:\n",
    "        y = keras.utils.to_categorical(y, num_classes)\n",
    "    return y    "
   ]
  },
  {
   "cell_type": "code",
   "execution_count": 4,
   "metadata": {},
   "outputs": [],
   "source": [
    "x_train, y_train = train\n",
    "x_test, y_test = test\n",
    "\n",
    "# Preproc the inputs\n",
    "x_train = preproc_x(x_train)\n",
    "x_test = preproc_x(x_test)\n",
    "\n",
    "# Preprc the outputs\n",
    "y_train = preproc_y(y_train)\n",
    "y_test = preproc_y(y_test)"
   ]
  },
  {
   "cell_type": "code",
   "execution_count": 5,
   "metadata": {},
   "outputs": [],
   "source": [
    "from keras.layers import BatchNormalization\n",
    "\n",
    "\"\"\"\n",
    "建立神經網路，並加入 BN layer\n",
    "\"\"\"\n",
    "def build_mlp(input_shape, output_units=10, num_neurons=[512, 256, 128]):\n",
    "    input_layer = keras.layers.Input(input_shape)\n",
    "    \n",
    "    for i, n_units in enumerate(num_neurons):\n",
    "        if i == 0:\n",
    "            x = keras.layers.Dense(units=n_units, \n",
    "                                   activation=\"relu\", \n",
    "                                   name=\"hidden_layer\"+str(i+1))(input_layer)\n",
    "            x = BatchNormalization()(x)\n",
    "        else:\n",
    "            x = keras.layers.Dense(units=n_units, \n",
    "                                   activation=\"relu\", \n",
    "                                   name=\"hidden_layer\"+str(i+1))(x)\n",
    "            x = BatchNormalization()(x)\n",
    "    \n",
    "    out = keras.layers.Dense(units=output_units, activation=\"softmax\", name=\"output\")(x)\n",
    "    \n",
    "    model = keras.models.Model(inputs=[input_layer], outputs=[out])\n",
    "    return model"
   ]
  },
  {
   "cell_type": "code",
   "execution_count": 6,
   "metadata": {},
   "outputs": [],
   "source": [
    "\"\"\"Code Here\n",
    "設定超參數\n",
    "\"\"\"\n",
    "LEARNING_RATE = 1e-3\n",
    "EPOCHS = 50\n",
    "BATCH_SIZE = 1024\n",
    "MOMENTUM = 0.95"
   ]
  },
  {
   "cell_type": "code",
   "execution_count": 7,
   "metadata": {},
   "outputs": [
    {
     "data": {
      "text/plain": [
       "'Code Here\\n撰寫你的訓練流程並將結果用 dictionary 紀錄\\n'"
      ]
     },
     "execution_count": 7,
     "metadata": {},
     "output_type": "execute_result"
    }
   ],
   "source": [
    "# 載入 Callbacks\n",
    "\"\"\"Code Here\n",
    "設定 callbacks: model checkpoint\n",
    "\"\"\"\n",
    "from keras.callbacks import ModelCheckpoint\n",
    "\n",
    "model_ckpt = ModelCheckpoint(filepath=\"./tmp.h5\", \n",
    "                             monitor=\"val_loss\", \n",
    "                             save_best_only=True)\n",
    "\n",
    "results = {}\n",
    "\"\"\"Code Here\n",
    "撰寫你的訓練流程並將結果用 dictionary 紀錄\n",
    "\"\"\"\n"
   ]
  },
  {
   "cell_type": "code",
   "execution_count": 8,
   "metadata": {
    "scrolled": true
   },
   "outputs": [
    {
     "name": "stdout",
     "output_type": "stream",
     "text": [
      "Model: \"functional_1\"\n",
      "_________________________________________________________________\n",
      "Layer (type)                 Output Shape              Param #   \n",
      "=================================================================\n",
      "input_1 (InputLayer)         [(None, 3072)]            0         \n",
      "_________________________________________________________________\n",
      "hidden_layer1 (Dense)        (None, 512)               1573376   \n",
      "_________________________________________________________________\n",
      "batch_normalization (BatchNo (None, 512)               2048      \n",
      "_________________________________________________________________\n",
      "hidden_layer2 (Dense)        (None, 256)               131328    \n",
      "_________________________________________________________________\n",
      "batch_normalization_1 (Batch (None, 256)               1024      \n",
      "_________________________________________________________________\n",
      "hidden_layer3 (Dense)        (None, 128)               32896     \n",
      "_________________________________________________________________\n",
      "batch_normalization_2 (Batch (None, 128)               512       \n",
      "_________________________________________________________________\n",
      "output (Dense)               (None, 10)                1290      \n",
      "=================================================================\n",
      "Total params: 1,742,474\n",
      "Trainable params: 1,740,682\n",
      "Non-trainable params: 1,792\n",
      "_________________________________________________________________\n",
      "Epoch 1/50\n",
      "49/49 [==============================] - 4s 75ms/step - loss: 2.1886 - accuracy: 0.2788 - val_loss: 2.1400 - val_accuracy: 0.1938\n",
      "Epoch 2/50\n",
      "49/49 [==============================] - 4s 73ms/step - loss: 1.7444 - accuracy: 0.3943 - val_loss: 1.9898 - val_accuracy: 0.2941\n",
      "Epoch 3/50\n",
      "49/49 [==============================] - 4s 72ms/step - loss: 1.6149 - accuracy: 0.4389 - val_loss: 1.8343 - val_accuracy: 0.3575\n",
      "Epoch 4/50\n",
      "49/49 [==============================] - 3s 71ms/step - loss: 1.5399 - accuracy: 0.4627 - val_loss: 1.7202 - val_accuracy: 0.3953\n",
      "Epoch 5/50\n",
      "49/49 [==============================] - 4s 72ms/step - loss: 1.4836 - accuracy: 0.4844 - val_loss: 1.6381 - val_accuracy: 0.4262\n",
      "Epoch 6/50\n",
      "49/49 [==============================] - 4s 72ms/step - loss: 1.4365 - accuracy: 0.5017 - val_loss: 1.5783 - val_accuracy: 0.4456\n",
      "Epoch 7/50\n",
      "49/49 [==============================] - 4s 74ms/step - loss: 1.3968 - accuracy: 0.5145 - val_loss: 1.5395 - val_accuracy: 0.4604\n",
      "Epoch 8/50\n",
      "49/49 [==============================] - 4s 76ms/step - loss: 1.3618 - accuracy: 0.5271 - val_loss: 1.5130 - val_accuracy: 0.4699\n",
      "Epoch 9/50\n",
      "49/49 [==============================] - 4s 74ms/step - loss: 1.3288 - accuracy: 0.5398 - val_loss: 1.5050 - val_accuracy: 0.4713\n",
      "Epoch 10/50\n",
      "49/49 [==============================] - 4s 73ms/step - loss: 1.2978 - accuracy: 0.5507 - val_loss: 1.4877 - val_accuracy: 0.4775\n",
      "Epoch 11/50\n",
      "49/49 [==============================] - 4s 73ms/step - loss: 1.2684 - accuracy: 0.5622 - val_loss: 1.4798 - val_accuracy: 0.4818\n",
      "Epoch 12/50\n",
      "49/49 [==============================] - 4s 81ms/step - loss: 1.2418 - accuracy: 0.5712 - val_loss: 1.4714 - val_accuracy: 0.4805\n",
      "Epoch 13/50\n",
      "49/49 [==============================] - 4s 88ms/step - loss: 1.2189 - accuracy: 0.5798 - val_loss: 1.4680 - val_accuracy: 0.4860\n",
      "Epoch 14/50\n",
      "49/49 [==============================] - 4s 77ms/step - loss: 1.1935 - accuracy: 0.5883 - val_loss: 1.4701 - val_accuracy: 0.4809\n",
      "Epoch 15/50\n",
      "49/49 [==============================] - 4s 73ms/step - loss: 1.1674 - accuracy: 0.5976 - val_loss: 1.4774 - val_accuracy: 0.4859\n",
      "Epoch 16/50\n",
      "49/49 [==============================] - 4s 78ms/step - loss: 1.1447 - accuracy: 0.6077 - val_loss: 1.4559 - val_accuracy: 0.4845\n",
      "Epoch 17/50\n",
      "49/49 [==============================] - 4s 74ms/step - loss: 1.1221 - accuracy: 0.6157 - val_loss: 1.4663 - val_accuracy: 0.4882\n",
      "Epoch 18/50\n",
      "49/49 [==============================] - 4s 75ms/step - loss: 1.0983 - accuracy: 0.6240 - val_loss: 1.4547 - val_accuracy: 0.4942\n",
      "Epoch 19/50\n",
      "49/49 [==============================] - 4s 78ms/step - loss: 1.0768 - accuracy: 0.6339 - val_loss: 1.4481 - val_accuracy: 0.4978\n",
      "Epoch 20/50\n",
      "49/49 [==============================] - 4s 74ms/step - loss: 1.0567 - accuracy: 0.6400 - val_loss: 1.4553 - val_accuracy: 0.4959\n",
      "Epoch 21/50\n",
      "49/49 [==============================] - 4s 76ms/step - loss: 1.0345 - accuracy: 0.6483 - val_loss: 1.4499 - val_accuracy: 0.4927\n",
      "Epoch 22/50\n",
      "49/49 [==============================] - 4s 75ms/step - loss: 1.0154 - accuracy: 0.6553 - val_loss: 1.4627 - val_accuracy: 0.4916\n",
      "Epoch 23/50\n",
      "49/49 [==============================] - 4s 87ms/step - loss: 0.9918 - accuracy: 0.6649 - val_loss: 1.4555 - val_accuracy: 0.5005\n",
      "Epoch 24/50\n",
      "49/49 [==============================] - 4s 78ms/step - loss: 0.9721 - accuracy: 0.6747 - val_loss: 1.4581 - val_accuracy: 0.4949\n",
      "Epoch 25/50\n",
      "49/49 [==============================] - 4s 76ms/step - loss: 0.9503 - accuracy: 0.6811 - val_loss: 1.4777 - val_accuracy: 0.4937\n",
      "Epoch 26/50\n",
      "49/49 [==============================] - 4s 75ms/step - loss: 0.9326 - accuracy: 0.6862 - val_loss: 1.4708 - val_accuracy: 0.4964\n",
      "Epoch 27/50\n",
      "49/49 [==============================] - 5s 94ms/step - loss: 0.9108 - accuracy: 0.6974 - val_loss: 1.4734 - val_accuracy: 0.4989\n",
      "Epoch 28/50\n",
      "49/49 [==============================] - 4s 79ms/step - loss: 0.8894 - accuracy: 0.7042 - val_loss: 1.4763 - val_accuracy: 0.4978\n",
      "Epoch 29/50\n",
      "49/49 [==============================] - 4s 88ms/step - loss: 0.8686 - accuracy: 0.7140 - val_loss: 1.4738 - val_accuracy: 0.4952\n",
      "Epoch 30/50\n",
      "49/49 [==============================] - 4s 83ms/step - loss: 0.8507 - accuracy: 0.7202 - val_loss: 1.5097 - val_accuracy: 0.4949\n",
      "Epoch 31/50\n",
      "49/49 [==============================] - 4s 76ms/step - loss: 0.8306 - accuracy: 0.7275 - val_loss: 1.4954 - val_accuracy: 0.4937\n",
      "Epoch 32/50\n",
      "49/49 [==============================] - 4s 75ms/step - loss: 0.8093 - accuracy: 0.7358 - val_loss: 1.5057 - val_accuracy: 0.4967\n",
      "Epoch 33/50\n",
      "49/49 [==============================] - 4s 76ms/step - loss: 0.7897 - accuracy: 0.7437 - val_loss: 1.5227 - val_accuracy: 0.4961\n",
      "Epoch 34/50\n",
      "49/49 [==============================] - 4s 81ms/step - loss: 0.7709 - accuracy: 0.7508 - val_loss: 1.5088 - val_accuracy: 0.4971\n",
      "Epoch 35/50\n",
      "49/49 [==============================] - 4s 84ms/step - loss: 0.7513 - accuracy: 0.7574 - val_loss: 1.5136 - val_accuracy: 0.4938\n",
      "Epoch 36/50\n",
      "49/49 [==============================] - 5s 99ms/step - loss: 0.7344 - accuracy: 0.7648 - val_loss: 1.5348 - val_accuracy: 0.4965\n",
      "Epoch 37/50\n",
      "49/49 [==============================] - 7s 148ms/step - loss: 0.7140 - accuracy: 0.7724 - val_loss: 1.5591 - val_accuracy: 0.4889\n",
      "Epoch 38/50\n",
      "49/49 [==============================] - 5s 109ms/step - loss: 0.6970 - accuracy: 0.7794 - val_loss: 1.5412 - val_accuracy: 0.4971\n",
      "Epoch 39/50\n",
      "49/49 [==============================] - 4s 87ms/step - loss: 0.6774 - accuracy: 0.7881 - val_loss: 1.5511 - val_accuracy: 0.4968\n",
      "Epoch 40/50\n",
      "49/49 [==============================] - 6s 118ms/step - loss: 0.6633 - accuracy: 0.7926 - val_loss: 1.5676 - val_accuracy: 0.4892\n",
      "Epoch 41/50\n",
      "49/49 [==============================] - 5s 99ms/step - loss: 0.6419 - accuracy: 0.8021 - val_loss: 1.5760 - val_accuracy: 0.4949\n",
      "Epoch 42/50\n",
      "49/49 [==============================] - 5s 101ms/step - loss: 0.6254 - accuracy: 0.8082 - val_loss: 1.5680 - val_accuracy: 0.4912\n",
      "Epoch 43/50\n",
      "49/49 [==============================] - 5s 92ms/step - loss: 0.6071 - accuracy: 0.8156 - val_loss: 1.5785 - val_accuracy: 0.4929\n",
      "Epoch 44/50\n",
      "49/49 [==============================] - 4s 82ms/step - loss: 0.5883 - accuracy: 0.8234 - val_loss: 1.5997 - val_accuracy: 0.4970\n",
      "Epoch 45/50\n",
      "49/49 [==============================] - 4s 82ms/step - loss: 0.5728 - accuracy: 0.8291 - val_loss: 1.5979 - val_accuracy: 0.4980\n",
      "Epoch 46/50\n",
      "49/49 [==============================] - 4s 79ms/step - loss: 0.5562 - accuracy: 0.8369 - val_loss: 1.6129 - val_accuracy: 0.4948\n",
      "Epoch 47/50\n",
      "49/49 [==============================] - 4s 84ms/step - loss: 0.5386 - accuracy: 0.8433 - val_loss: 1.6534 - val_accuracy: 0.4916\n",
      "Epoch 48/50\n",
      "49/49 [==============================] - 4s 84ms/step - loss: 0.5220 - accuracy: 0.8492 - val_loss: 1.6873 - val_accuracy: 0.4798\n"
     ]
    },
    {
     "name": "stdout",
     "output_type": "stream",
     "text": [
      "Epoch 49/50\n",
      "49/49 [==============================] - 4s 73ms/step - loss: 0.5069 - accuracy: 0.8554 - val_loss: 1.6506 - val_accuracy: 0.4948\n",
      "Epoch 50/50\n",
      "49/49 [==============================] - 4s 82ms/step - loss: 0.4899 - accuracy: 0.8631 - val_loss: 1.6928 - val_accuracy: 0.4843\n",
      "313/313 [==============================] - 1s 2ms/step - loss: 1.4481 - accuracy: 0.4978\n"
     ]
    }
   ],
   "source": [
    "import matplotlib.pyplot as plt\n",
    "%matplotlib inline\n",
    "\"\"\"Code Here\n",
    "將結果繪出\n",
    "\"\"\"\n",
    "model = build_mlp(input_shape=x_train.shape[1:])\n",
    "model.summary()\n",
    "optimizer = keras.optimizers.SGD(lr=LEARNING_RATE, nesterov=True, momentum=MOMENTUM)\n",
    "model.compile(loss=\"categorical_crossentropy\", metrics=[\"accuracy\"], optimizer=optimizer)\n",
    "\n",
    "model.fit(x_train, y_train, \n",
    "          epochs=EPOCHS, \n",
    "          batch_size=BATCH_SIZE, \n",
    "          validation_data=(x_test, y_test), \n",
    "          shuffle=True,\n",
    "          callbacks=[model_ckpt]\n",
    "         )\n",
    "\n",
    "# Collect results\n",
    "train_loss = model.history.history[\"loss\"]\n",
    "valid_loss = model.history.history[\"val_loss\"]\n",
    "train_acc = model.history.history[\"accuracy\"]\n",
    "valid_acc = model.history.history[\"val_accuracy\"]\n",
    "\n",
    "# Load back\n",
    "model = keras.models.load_model(\"./tmp.h5\")\n",
    "loss_loadback, acc_loadback = model.evaluate(x_test, y_test)"
   ]
  },
  {
   "cell_type": "code",
   "execution_count": null,
   "metadata": {},
   "outputs": [],
   "source": []
  }
 ],
 "metadata": {
  "kernelspec": {
   "display_name": "Python 3",
   "language": "python",
   "name": "python3"
  },
  "language_info": {
   "codemirror_mode": {
    "name": "ipython",
    "version": 3
   },
   "file_extension": ".py",
   "mimetype": "text/x-python",
   "name": "python",
   "nbconvert_exporter": "python",
   "pygments_lexer": "ipython3",
   "version": "3.7.6"
  }
 },
 "nbformat": 4,
 "nbformat_minor": 2
}
